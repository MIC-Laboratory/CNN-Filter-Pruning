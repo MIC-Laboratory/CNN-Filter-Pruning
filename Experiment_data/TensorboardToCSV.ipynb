{
 "cells": [
  {
   "cell_type": "code",
   "execution_count": 1,
   "id": "aab94b1b",
   "metadata": {},
   "outputs": [],
   "source": [
    "from packaging import version\n",
    "\n",
    "import pandas as pd\n",
    "from matplotlib import pyplot as plt\n",
    "import seaborn as sns\n",
    "from scipy import stats\n",
    "import tensorboard as tb\n",
    "# ImageNet_K\n",
    "Cifar10_Vgg_experiment_id = \"3arJG93pTbW9nsZJqiznMg\"\n",
    "Imagenet_Vgg_experiment_id = \"Y0lwnHrUQZqvyErxf6vJDw\"\n",
    "Cifar100_Vgg_experiment_id = \"ugTjLjdOSAWkLfmDQ1B7zA\"\n",
    "Cifar10_supplement_Vgg_K_Distance_experiment_id = \"8O1BIeA3SaCqvtKkqP0kiA\"\n",
    "Cifar100_supplement_Vgg_K_Distance_experiment_id = \"XQsDEw5jQB2YvBeo2cauEw\"\n",
    "Imagenet_supplement_Vgg_K_Distance_experiment_id = \"l295k7BmSDGPpIGVEXKMzg\"\n",
    "# Own K\n",
    "Own_K_Cifar10_Vgg_experiment_id = \"9BKB3gSQQ5yw6S3wPWWtYw\"\n",
    "Own_K_Cifar100_Vgg_experiment_id = \"GXJSXSe7SliRu6dzlKnFkw\"\n",
    "K_Selection_Imagenet_Vgg_experiment_id = \"Oz7rS6w1Q6G1yp77zL84jQ\"\n",
    "K_Selection_Cifar10_Vgg_experiment_id = \"gpsAxpXJQGO53ovm6Gj68A\"\n",
    "K_Selection_Cifar100_Vgg_experiment_id = \"ODk4skNaRw6yRybOa5eDQA\"\n",
    "\n",
    "experiment = tb.data.experimental.ExperimentFromDev(Own_K_Cifar100_Vgg_experiment_id)\n",
    "df = experiment.get_scalars()\n",
    "csv_path = f\"Csv_files/Own_K_Cifar100_Vgg.csv\"\n",
    "df.to_csv(csv_path, index=False)\n",
    "dfw_roundtrip = pd.read_csv(csv_path)\n",
    "pd.testing.assert_frame_equal(dfw_roundtrip, df)"
   ]
  },
  {
   "cell_type": "code",
   "execution_count": 4,
   "id": "9a8962b6",
   "metadata": {},
   "outputs": [],
   "source": [
    "\n"
   ]
  },
  {
   "cell_type": "code",
   "execution_count": 5,
   "id": "85186b4d",
   "metadata": {},
   "outputs": [],
   "source": [
    "\n"
   ]
  }
 ],
 "metadata": {
  "kernelspec": {
   "display_name": "Python 3 (ipykernel)",
   "language": "python",
   "name": "python3"
  },
  "language_info": {
   "codemirror_mode": {
    "name": "ipython",
    "version": 3
   },
   "file_extension": ".py",
   "mimetype": "text/x-python",
   "name": "python",
   "nbconvert_exporter": "python",
   "pygments_lexer": "ipython3",
   "version": "3.9.10"
  }
 },
 "nbformat": 4,
 "nbformat_minor": 5
}
