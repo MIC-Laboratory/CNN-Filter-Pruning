{
 "cells": [
  {
   "cell_type": "code",
   "execution_count": 4,
   "metadata": {},
   "outputs": [
    {
     "data": {
      "text/plain": [
       "[0.48, 0.16, 0.09, 0.16, 0.38, 0.47, 0.1, 0.13, 0.31, 0.26, 0.3, 0.07, 0.2]"
      ]
     },
     "execution_count": 4,
     "metadata": {},
     "output_type": "execute_result"
    }
   ],
   "source": [
    "#VGG only\n",
    "K = [31,10,12,20,97,120,25,67,157,132,154,36,103]\n",
    "Filter_number = [64, 64, 128, 128, 256, 256, 256, 512, 512, 512, 512, 512, 512]\n",
    "pruning_ratio = 1\n",
    "c = []\n",
    "for ap,bp in zip(K,Filter_number):\n",
    "    c.append(ap/bp)\n",
    "total = sum(c)\n",
    "normalized = [round((x)*100*pruning_ratio,0)/100 for x in c]\n",
    "normalized"
   ]
  }
 ],
 "metadata": {
  "kernelspec": {
   "display_name": "Pytorch",
   "language": "python",
   "name": "python3"
  },
  "language_info": {
   "codemirror_mode": {
    "name": "ipython",
    "version": 3
   },
   "file_extension": ".py",
   "mimetype": "text/x-python",
   "name": "python",
   "nbconvert_exporter": "python",
   "pygments_lexer": "ipython3",
   "version": "3.9.17"
  },
  "orig_nbformat": 4
 },
 "nbformat": 4,
 "nbformat_minor": 2
}
