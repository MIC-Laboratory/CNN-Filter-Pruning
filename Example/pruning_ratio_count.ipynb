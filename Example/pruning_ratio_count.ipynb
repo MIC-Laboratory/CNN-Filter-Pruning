{
 "cells": [
  {
   "cell_type": "code",
   "execution_count": 10,
   "metadata": {},
   "outputs": [
    {
     "data": {
      "text/plain": [
       "[0.44723618090452266,\n",
       " 0.7336683417085427,\n",
       " 0.7185929648241207,\n",
       " 0.7336683417085427,\n",
       " 0.7185929648241207,\n",
       " 0.914572864321608,\n",
       " 0.7386934673366834,\n",
       " 0.778894472361809,\n",
       " 1.0,\n",
       " 0.5829145728643217,\n",
       " 0.0,\n",
       " 0.23115577889447236,\n",
       " 0.3316582914572864]"
      ]
     },
     "execution_count": 10,
     "metadata": {},
     "output_type": "execute_result"
    }
   ],
   "source": [
    "#VGG only\n",
    "K = [31,10,12,20,97,120,25,67,157,132,154,36,103]\n",
    "Filter_number = [64, 64, 128, 128, 256, 256, 256, 512, 512, 512, 512, 512, 512]\n",
    "pruning_ratio = 1\n",
    "c = [1.94,1.37,1.4,1.37,1.4,1.01,1.36,1.28,0.84,1.67,2.83,2.37,2.17]\n",
    "# for ap,bp in zip(K,Filter_number):\n",
    "#     c.append(ap/bp)\n",
    "total = sum(c)\n",
    "normalized = [1-abs((x-min(c))/(max(c)-min(c))) for x in c]\n",
    "normalized"
   ]
  }
 ],
 "metadata": {
  "kernelspec": {
   "display_name": "Pytorch",
   "language": "python",
   "name": "python3"
  },
  "language_info": {
   "codemirror_mode": {
    "name": "ipython",
    "version": 3
   },
   "file_extension": ".py",
   "mimetype": "text/x-python",
   "name": "python",
   "nbconvert_exporter": "python",
   "pygments_lexer": "ipython3",
   "version": "3.9.17"
  },
  "orig_nbformat": 4
 },
 "nbformat": 4,
 "nbformat_minor": 2
}
