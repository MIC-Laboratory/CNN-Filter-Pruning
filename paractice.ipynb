{
 "cells": [
  {
   "cell_type": "code",
   "execution_count": 1,
   "metadata": {},
   "outputs": [],
   "source": [
    "import torch\n",
    "import torch.nn as nn\n",
    "import torch.optim as optim\n",
    "import torchvision\n",
    "from Models.Resnet import ResNet18 as model"
   ]
  },
  {
   "cell_type": "code",
   "execution_count": null,
   "metadata": {},
   "outputs": [],
   "source": [
    "new_net = model(num_classes=10)\n",
    "print(vars(new_net))"
   ]
  },
  {
   "cell_type": "code",
   "execution_count": 3,
   "metadata": {},
   "outputs": [],
   "source": [
    "def remove_filter_by_index(weight,sorted_idx,bias=None,mean=None,var=None,gate=False):       \n",
    "        if mean is not None:\n",
    "            mask_tensor = torch.tensor(mask_number,device=device)\n",
    "            for idx in sorted_idx:\n",
    "                weight[idx.item()] = mask_tensor\n",
    "                bias[idx.item()] = mask_tensor\n",
    "                mean[idx.item()] = mask_tensor \n",
    "                var[idx.item()] = mask_tensor\n",
    "            weight = weight[weight != mask_number]\n",
    "            bias = bias[bias != mask_number]\n",
    "            mean = mean[mean != mask_number]\n",
    "            var = var[var != mask_number]\n",
    "            return weight,bias,mean,var\n",
    "        elif gate:\n",
    "            mask_tensor = torch.tensor(mask_number,device=device)\n",
    "            for idx in sorted_idx:\n",
    "                weight[idx.item()] = mask_tensor            \n",
    "            weight = weight[weight != mask_number]\n",
    "            return weight\n",
    "        else:\n",
    "            mask_tensor = torch.tensor(mask_number,device=device)\n",
    "            mask_tensor = mask_tensor.repeat(list(weight[0].size()))\n",
    "            for idx in sorted_idx:\n",
    "                weight[idx.item()] = mask_tensor\n",
    "            nonMaskRows_weight = abs(torch.abs(weight).sum(dim=(1,2,3)) - torch.abs(mask_tensor).sum(dim=(0,1,2))) > mask_number\n",
    "            weight = weight[nonMaskRows_weight]\n",
    "            return weight\n",
    "def remove_kernel_by_index(weight,sorted_idx,linear=None):\n",
    "    mask_tensor = torch.tensor(mask_number,device=device)\n",
    "    mask_tensor = mask_tensor.repeat(list(weight[0][0].size()))\n",
    "    for idx in sorted_idx:\n",
    "        weight[:,idx.item()] = mask_tensor\n",
    "    if (len(sorted_idx) != 0 and linear == None):\n",
    "        nonMaskRows_weight = abs(torch.abs(weight).sum(dim=(2,3)) - torch.abs(mask_tensor).sum(dim=(0,1))) > 0.0001 \n",
    "        weight = weight[:,nonMaskRows_weight[0]]\n",
    "    if (linear != None):\n",
    "        weight = weight[:,weight[1]!=mask_tensor]\n",
    "    return weight"
   ]
  },
  {
   "cell_type": "code",
   "execution_count": null,
   "metadata": {},
   "outputs": [],
   "source": [
    "def prune():\n",
    "    new_net.conv1.weight.data = remove_filter_by_index(new_net.conv1.weight.data.clone,sorted_idx)\n",
    "    new_net.layer1[0].weight.data = remove_filter_by_index(new_net.conv1.weight.data.clone,sorted_idx)"
   ]
  }
 ],
 "metadata": {
  "kernelspec": {
   "display_name": "Python 3.9.10 ('Pytorch')",
   "language": "python",
   "name": "python3"
  },
  "language_info": {
   "codemirror_mode": {
    "name": "ipython",
    "version": 3
   },
   "file_extension": ".py",
   "mimetype": "text/x-python",
   "name": "python",
   "nbconvert_exporter": "python",
   "pygments_lexer": "ipython3",
   "version": "3.9.10"
  },
  "orig_nbformat": 4,
  "vscode": {
   "interpreter": {
    "hash": "4a167622e1a1a23ec52b648a636d61c125b78d67bc944855d65c39c04b8bc06e"
   }
  }
 },
 "nbformat": 4,
 "nbformat_minor": 2
}
